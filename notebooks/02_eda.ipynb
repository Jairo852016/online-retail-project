{
 "cells": [
  {
   "cell_type": "markdown",
   "id": "d8d72a2f",
   "metadata": {},
   "source": [
    "# Cargar Librerias"
   ]
  },
  {
   "cell_type": "code",
   "execution_count": 30,
   "id": "ca21b203",
   "metadata": {},
   "outputs": [],
   "source": [
    "from pathlib import Path\n",
    "import sqlite3\n",
    "import pandas as pd\n",
    "import numpy as np\n",
    "from datetime import datetime"
   ]
  },
  {
   "cell_type": "markdown",
   "id": "8afa2304",
   "metadata": {},
   "source": [
    "# Cargamos Datos desde SQlite"
   ]
  },
  {
   "cell_type": "code",
   "execution_count": 5,
   "id": "1fd6f5e2",
   "metadata": {},
   "outputs": [
    {
     "name": "stdout",
     "output_type": "stream",
     "text": [
      "..\\db\\online_retail_clean.db\n"
     ]
    }
   ],
   "source": [
    "DB_DIR  = Path(\"../db\")   \n",
    "DB_DIR.mkdir(parents=True, exist_ok=True)\n",
    "DB_PATH = DB_DIR / \"online_retail_clean.db\"\n",
    "print(DB_PATH)\n",
    "\n",
    "with sqlite3.connect(DB_PATH) as conn:\n",
    "    df = pd.read_sql_query(\"SELECT * FROM transactions\", conn)"
   ]
  },
  {
   "cell_type": "markdown",
   "id": "ec7159fe",
   "metadata": {},
   "source": [
    "# Tipos recomendados y columnas derivadas"
   ]
  },
  {
   "cell_type": "code",
   "execution_count": 6,
   "id": "f623d8aa",
   "metadata": {},
   "outputs": [
    {
     "name": "stdout",
     "output_type": "stream",
     "text": [
      "Shape: (397884, 9)\n"
     ]
    },
    {
     "data": {
      "text/html": [
       "<div>\n",
       "<style scoped>\n",
       "    .dataframe tbody tr th:only-of-type {\n",
       "        vertical-align: middle;\n",
       "    }\n",
       "\n",
       "    .dataframe tbody tr th {\n",
       "        vertical-align: top;\n",
       "    }\n",
       "\n",
       "    .dataframe thead th {\n",
       "        text-align: right;\n",
       "    }\n",
       "</style>\n",
       "<table border=\"1\" class=\"dataframe\">\n",
       "  <thead>\n",
       "    <tr style=\"text-align: right;\">\n",
       "      <th></th>\n",
       "      <th>InvoiceNo</th>\n",
       "      <th>StockCode</th>\n",
       "      <th>Description</th>\n",
       "      <th>Quantity</th>\n",
       "      <th>InvoiceDate</th>\n",
       "      <th>UnitPrice</th>\n",
       "      <th>CustomerID</th>\n",
       "      <th>Country</th>\n",
       "      <th>Revenue</th>\n",
       "    </tr>\n",
       "  </thead>\n",
       "  <tbody>\n",
       "    <tr>\n",
       "      <th>0</th>\n",
       "      <td>536365</td>\n",
       "      <td>85123A</td>\n",
       "      <td>WHITE HANGING HEART T-LIGHT HOLDER</td>\n",
       "      <td>6</td>\n",
       "      <td>2010-12-01 08:26:00</td>\n",
       "      <td>2.55</td>\n",
       "      <td>17850.0</td>\n",
       "      <td>United Kingdom</td>\n",
       "      <td>15.30</td>\n",
       "    </tr>\n",
       "    <tr>\n",
       "      <th>1</th>\n",
       "      <td>536365</td>\n",
       "      <td>71053</td>\n",
       "      <td>WHITE METAL LANTERN</td>\n",
       "      <td>6</td>\n",
       "      <td>2010-12-01 08:26:00</td>\n",
       "      <td>3.39</td>\n",
       "      <td>17850.0</td>\n",
       "      <td>United Kingdom</td>\n",
       "      <td>20.34</td>\n",
       "    </tr>\n",
       "    <tr>\n",
       "      <th>2</th>\n",
       "      <td>536365</td>\n",
       "      <td>84406B</td>\n",
       "      <td>CREAM CUPID HEARTS COAT HANGER</td>\n",
       "      <td>8</td>\n",
       "      <td>2010-12-01 08:26:00</td>\n",
       "      <td>2.75</td>\n",
       "      <td>17850.0</td>\n",
       "      <td>United Kingdom</td>\n",
       "      <td>22.00</td>\n",
       "    </tr>\n",
       "    <tr>\n",
       "      <th>3</th>\n",
       "      <td>536365</td>\n",
       "      <td>84029G</td>\n",
       "      <td>KNITTED UNION FLAG HOT WATER BOTTLE</td>\n",
       "      <td>6</td>\n",
       "      <td>2010-12-01 08:26:00</td>\n",
       "      <td>3.39</td>\n",
       "      <td>17850.0</td>\n",
       "      <td>United Kingdom</td>\n",
       "      <td>20.34</td>\n",
       "    </tr>\n",
       "    <tr>\n",
       "      <th>4</th>\n",
       "      <td>536365</td>\n",
       "      <td>84029E</td>\n",
       "      <td>RED WOOLLY HOTTIE WHITE HEART.</td>\n",
       "      <td>6</td>\n",
       "      <td>2010-12-01 08:26:00</td>\n",
       "      <td>3.39</td>\n",
       "      <td>17850.0</td>\n",
       "      <td>United Kingdom</td>\n",
       "      <td>20.34</td>\n",
       "    </tr>\n",
       "  </tbody>\n",
       "</table>\n",
       "</div>"
      ],
      "text/plain": [
       "  InvoiceNo StockCode                          Description  Quantity  \\\n",
       "0    536365    85123A   WHITE HANGING HEART T-LIGHT HOLDER         6   \n",
       "1    536365     71053                  WHITE METAL LANTERN         6   \n",
       "2    536365    84406B       CREAM CUPID HEARTS COAT HANGER         8   \n",
       "3    536365    84029G  KNITTED UNION FLAG HOT WATER BOTTLE         6   \n",
       "4    536365    84029E       RED WOOLLY HOTTIE WHITE HEART.         6   \n",
       "\n",
       "          InvoiceDate  UnitPrice  CustomerID         Country  Revenue  \n",
       "0 2010-12-01 08:26:00       2.55     17850.0  United Kingdom    15.30  \n",
       "1 2010-12-01 08:26:00       3.39     17850.0  United Kingdom    20.34  \n",
       "2 2010-12-01 08:26:00       2.75     17850.0  United Kingdom    22.00  \n",
       "3 2010-12-01 08:26:00       3.39     17850.0  United Kingdom    20.34  \n",
       "4 2010-12-01 08:26:00       3.39     17850.0  United Kingdom    20.34  "
      ]
     },
     "execution_count": 6,
     "metadata": {},
     "output_type": "execute_result"
    }
   ],
   "source": [
    "df[\"InvoiceDate\"] = pd.to_datetime(df[\"InvoiceDate\"], errors=\"coerce\")\n",
    "df[\"Quantity\"]    = pd.to_numeric(df[\"Quantity\"], errors=\"coerce\")\n",
    "df[\"UnitPrice\"]   = pd.to_numeric(df[\"UnitPrice\"], errors=\"coerce\")\n",
    "df[\"Revenue\"]     = df[\"Quantity\"] * df[\"UnitPrice\"]\n",
    "\n",
    "print(\"Shape:\", df.shape)\n",
    "df.head()"
   ]
  },
  {
   "cell_type": "markdown",
   "id": "f5670e23",
   "metadata": {},
   "source": [
    "# MINIMO MAXIMO"
   ]
  },
  {
   "cell_type": "code",
   "execution_count": 15,
   "id": "576c9731",
   "metadata": {},
   "outputs": [
    {
     "name": "stdout",
     "output_type": "stream",
     "text": [
      "Fecha Maxima 2011-12-09 12:50:00\n",
      "Fecha Minima 2010-12-01 08:26:00\n"
     ]
    }
   ],
   "source": [
    "rows, cols = df.shape\n",
    "columns = df.columns.tolist()\n",
    "date_min = df[\"InvoiceDate\"].min()\n",
    "date_max = df[\"InvoiceDate\"].max()\n",
    "print(\"Fecha Maxima\",date_max)\n",
    "print(\"Fecha Minima\",date_min)"
   ]
  },
  {
   "cell_type": "markdown",
   "id": "10fc8fe5",
   "metadata": {},
   "source": [
    "# Clientes, Paises, Productos, Facturas"
   ]
  },
  {
   "cell_type": "code",
   "execution_count": 14,
   "id": "2e44c35c",
   "metadata": {},
   "outputs": [
    {
     "name": "stdout",
     "output_type": "stream",
     "text": [
      "# Paises 37\n",
      "# Clientes 4338\n",
      "# Facturas 18532\n",
      "# Productos 3665\n"
     ]
    }
   ],
   "source": [
    "n_invoices  = df[\"InvoiceNo\"].nunique()\n",
    "n_customers = df[\"CustomerID\"].nunique(dropna=True)\n",
    "n_products  = df[\"StockCode\"].nunique()\n",
    "n_countries = df[\"Country\"].nunique()\n",
    "\n",
    "print(\"# Paises\", n_countries)\n",
    "print(\"# Clientes\", n_customers)\n",
    "print(\"# Facturas\", n_invoices)\n",
    "print(\"# Productos\", n_products)"
   ]
  },
  {
   "cell_type": "markdown",
   "id": "f02255da",
   "metadata": {},
   "source": [
    "# Métricas de ventas"
   ]
  },
  {
   "cell_type": "code",
   "execution_count": 24,
   "id": "dace9561",
   "metadata": {},
   "outputs": [
    {
     "name": "stdout",
     "output_type": "stream",
     "text": [
      "Total Ganacia 8911407.904\n",
      "Ordenes  InvoiceNo\n",
      "536365    139.12\n",
      "536366     22.20\n",
      "536367    278.73\n",
      "536368     70.05\n",
      "536369     17.85\n",
      "           ...  \n",
      "581583    124.60\n",
      "581584    140.64\n",
      "581585    329.05\n",
      "581586    339.20\n",
      "581587    249.45\n",
      "Name: Revenue, Length: 18532, dtype: float64\n",
      "Promedio Ventas 480.8659563997409\n",
      "Mediana Ventas 303.03999999999996\n",
      "Promedio items por factura 278.8588387653788\n",
      "Mediana items por factura 155.0\n",
      "Items por Factura InvoiceNo\n",
      "536365     40\n",
      "536366     12\n",
      "536367     83\n",
      "536368     15\n",
      "536369      3\n",
      "         ... \n",
      "581583     76\n",
      "581584    120\n",
      "581585    278\n",
      "581586     66\n",
      "581587    105\n",
      "Name: Quantity, Length: 18532, dtype: int64\n"
     ]
    }
   ],
   "source": [
    "total_revenue = np.nansum(df[\"Revenue\"])\n",
    "order_revenue = df.groupby(\"InvoiceNo\", dropna=True)[\"Revenue\"].sum()\n",
    "avg_order_value   = order_revenue.mean()\n",
    "median_order_value= order_revenue.median()\n",
    "\n",
    "items_per_invoice = df.groupby(\"InvoiceNo\", dropna=True)[\"Quantity\"].sum()\n",
    "avg_items_per_inv = items_per_invoice.mean()\n",
    "median_items_per_inv = items_per_invoice.median()\n",
    "print(\"Total Ganacia\",total_revenue)\n",
    "print(\"Ordenes \",order_revenue)\n",
    "print(\"Promedio Ventas\",avg_order_value)\n",
    "print(\"Mediana Ventas\",median_order_value)\n",
    "print(\"Promedio items por factura\",avg_items_per_inv)\n",
    "print(\"Mediana items por factura\",median_items_per_inv)\n",
    "print(\"Items por Factura\",items_per_invoice)\n",
    "\n",
    "\n"
   ]
  },
  {
   "cell_type": "markdown",
   "id": "8c4c62bb",
   "metadata": {},
   "source": [
    "# Top países / productos"
   ]
  },
  {
   "cell_type": "code",
   "execution_count": 26,
   "id": "35688e07",
   "metadata": {},
   "outputs": [
    {
     "name": "stdout",
     "output_type": "stream",
     "text": [
      "Country\n",
      "United Kingdom    7308391.554\n",
      "Netherlands        285446.340\n",
      "EIRE               265545.900\n",
      "Germany            228867.140\n",
      "France             209024.050\n",
      "Australia          138521.310\n",
      "Spain               61577.110\n",
      "Switzerland         56443.950\n",
      "Belgium             41196.340\n",
      "Sweden              38378.330\n",
      "Name: Revenue, dtype: float64\n",
      "Description\n",
      "PAPER CRAFT , LITTLE BIRDIE           80995\n",
      "MEDIUM CERAMIC TOP STORAGE JAR        77916\n",
      "WORLD WAR 2 GLIDERS ASSTD DESIGNS     54415\n",
      "JUMBO BAG RED RETROSPOT               46181\n",
      "WHITE HANGING HEART T-LIGHT HOLDER    36725\n",
      "ASSORTED COLOUR BIRD ORNAMENT         35362\n",
      "PACK OF 72 RETROSPOT CAKE CASES       33693\n",
      "POPCORN HOLDER                        30931\n",
      "RABBIT NIGHT LIGHT                    27202\n",
      "MINI PAINT SET VINTAGE                26076\n",
      "Name: Quantity, dtype: int64\n"
     ]
    }
   ],
   "source": [
    "top_countries = (df.groupby(\"Country\", dropna=True)[\"Revenue\"]\n",
    "                   .sum()\n",
    "                   .sort_values(ascending=False)\n",
    "                   .head(10))\n",
    "\n",
    "top_products_by_qty = (df.groupby(\"Description\", dropna=True)[\"Quantity\"]\n",
    "                         .sum()\n",
    "                         .sort_values(ascending=False)\n",
    "                         .head(10))\n",
    "print(top_countries)\n",
    "print(top_products_by_qty)\n",
    "\n"
   ]
  },
  {
   "cell_type": "markdown",
   "id": "433468d2",
   "metadata": {},
   "source": [
    "# Nulos y duplicados"
   ]
  },
  {
   "cell_type": "code",
   "execution_count": 27,
   "id": "c9978d24",
   "metadata": {},
   "outputs": [
    {
     "data": {
      "text/plain": [
       "{'rows': 397884,\n",
       " 'cols': 9,\n",
       " 'date_min': '2010-12-01 08:26:00',\n",
       " 'date_max': '2011-12-09 12:50:00',\n",
       " 'n_invoices': 18532,\n",
       " 'n_customers': 4338,\n",
       " 'n_products': 3665,\n",
       " 'n_countries': 37,\n",
       " 'total_revenue': 8911407.904,\n",
       " 'avg_order_value': 480.8659563997409,\n",
       " 'median_order_value': 303.03999999999996,\n",
       " 'avg_items_per_invoice': 278.8588387653788,\n",
       " 'median_items_per_invoice': 155.0,\n",
       " 'dup_rows': 5192}"
      ]
     },
     "execution_count": 27,
     "metadata": {},
     "output_type": "execute_result"
    }
   ],
   "source": [
    "nulls_by_col = df.isna().sum().sort_values(ascending=False)\n",
    "dupe_rows = df.duplicated().sum()\n",
    "\n",
    "summary_preview = {\n",
    "    \"rows\": rows,\n",
    "    \"cols\": cols,\n",
    "    \"date_min\": str(date_min),\n",
    "    \"date_max\": str(date_max),\n",
    "    \"n_invoices\": n_invoices,\n",
    "    \"n_customers\": n_customers,\n",
    "    \"n_products\": n_products,\n",
    "    \"n_countries\": n_countries,\n",
    "    \"total_revenue\": float(total_revenue),\n",
    "    \"avg_order_value\": float(avg_order_value),\n",
    "    \"median_order_value\": float(median_order_value),\n",
    "    \"avg_items_per_invoice\": float(avg_items_per_inv),\n",
    "    \"median_items_per_invoice\": float(median_items_per_inv),\n",
    "    \"dup_rows\": int(dupe_rows),\n",
    "}\n",
    "summary_preview"
   ]
  },
  {
   "cell_type": "markdown",
   "id": "70126bbc",
   "metadata": {},
   "source": [
    "# Path para archivo txt"
   ]
  },
  {
   "cell_type": "code",
   "execution_count": null,
   "id": "ef4026af",
   "metadata": {},
   "outputs": [],
   "source": [
    "REPORTS_DIR  = Path(\"../reports\")   \n",
    "REPORTS_DIR.mkdir(parents=True, exist_ok=True)\n",
    "OUT_TXT = REPORTS_DIR / \"online_retail_clean.txt\"\n",
    "print(OUT_TXT)"
   ]
  },
  {
   "cell_type": "markdown",
   "id": "d6891aa2",
   "metadata": {},
   "source": [
    "# Generación de archivo txt"
   ]
  },
  {
   "cell_type": "code",
   "execution_count": 31,
   "id": "e712fc49",
   "metadata": {},
   "outputs": [
    {
     "name": "stdout",
     "output_type": "stream",
     "text": [
      "✅ Resumen EDA guardado en: ..\\reports\\online_retail_clean.txt\n",
      "\n",
      "--- Vista previa ---\n",
      "\n",
      "=== EDA Summary – Online Retail ===\n",
      "Generated at: 2025-09-25 18:51:07\n",
      "Source table: transactions (SQLite @ ../db/online_retail_clean.db)\n",
      "\n",
      "1) What does the dataset contain?\n",
      "   Transactional e-commerce records with invoice, product, quantity, pricing, timestamp, customer, and country information.\n",
      "\n",
      "2) Field descriptions:\n",
      "   - InvoiceNo [object] – Identificador de factura (string). En el raw, facturas anuladas suelen iniciar con 'C'. | nulls: 0\n",
      "   - StockCode [object] – Código del producto (string). | nulls: 0\n",
      "   - Description [object] – Nombre del producto (texto). | nulls: 0\n",
      "   - Quantity [int64] – Cantidad vendida en la línea (entero; en el raw, valores negativos indican devoluciones). | nulls: 0\n",
      "   - InvoiceDate [datetime64[ns]] – Fecha y hora de la transacción (datetime). | nulls: 0\n",
      "   - UnitPrice [float64] – Precio unitario del producto (numérico). | nulls: 0\n",
      "   - CustomerID [float64] – Identificador de cliente (categórico; en el raw hay nulos). | nulls: 0\n",
      "   - Country [object] – País del cliente (categórico). | nulls: 0\n",
      "   - Revenue [float64] – Campo derivado = Quantity × UnitPrice (numérico). | nulls: 0\n",
      "\n",
      "3) High-level metadata:\n",
      "   - Rango temporal: 2010-12-01 → 2011-12-09\n",
      "   - Filas × columnas: 397,884 × 9\n",
      "   - Facturas únicas: 18,532\n",
      "   - Clientes únicos: 4,338\n",
      "   - Productos únicos: 3,665\n",
      "   - Países: 37\n",
      "   - Revenue total (según UnitPrice): 8,911,407.90\n",
      "   - Valor promedio por factura (AOV): 480.87 (mediana: 303.04)\n",
      "   - Ítems promedio por factura: 278.86 (mediana: 155.00)\n",
      "   - Filas duplicadas (exact match): 5,192\n",
      "\n",
      "4) Top countries by revenue (Top 10):\n",
      "   - United Kingdom: 7,308,391.55\n",
      "   - Netherlands: 285,446.34\n",
      "   - EIRE: 265,545.90\n",
      "   - Germany: 228,867.14\n",
      "   - France: 209,024.05\n",
      "   - Australia: 138,521.31\n",
      "   - Spain: 61,577.11\n",
      "   - Switzerland: 56,443.95\n",
      "   - Belgium: 41,196.34 \n",
      "...\n",
      "\n"
     ]
    }
   ],
   "source": [
    "\n",
    "\n",
    "field_desc = {\n",
    "    \"InvoiceNo\":  \"Identificador de factura (string). En el raw, facturas anuladas suelen iniciar con 'C'.\",\n",
    "    \"StockCode\":  \"Código del producto (string).\",\n",
    "    \"Description\":\"Nombre del producto (texto).\",\n",
    "    \"Quantity\":   \"Cantidad vendida en la línea (entero; en el raw, valores negativos indican devoluciones).\",\n",
    "    \"InvoiceDate\":\"Fecha y hora de la transacción (datetime).\",\n",
    "    \"UnitPrice\":  \"Precio unitario del producto (numérico).\",\n",
    "    \"CustomerID\": \"Identificador de cliente (categórico; en el raw hay nulos).\",\n",
    "    \"Country\":    \"País del cliente (categórico).\",\n",
    "    \"Revenue\":    \"Campo derivado = Quantity × UnitPrice (numérico).\"\n",
    "}\n",
    "\n",
    "def fmt_money(x): \n",
    "    return f\"{x:,.2f}\"\n",
    "#Genero el top 10\n",
    "def list_block(title, series, top_n=10, money=False):\n",
    "    lines = [f\"{title}:\"]\n",
    "    for k, v in series.head(top_n).items():\n",
    "        vv = fmt_money(v) if money else f\"{v:,}\"\n",
    "        lines.append(f\"  - {k}: {vv}\")\n",
    "    return \"\\n\".join(lines)\n",
    "\n",
    "metadata_list = [\n",
    "    f\"- Rango temporal: {date_min:%Y-%m-%d} → {date_max:%Y-%m-%d}\",\n",
    "    f\"- Filas × columnas: {rows:,} × {cols}\",\n",
    "    f\"- Facturas únicas: {n_invoices:,}\",\n",
    "    f\"- Clientes únicos: {n_customers:,}\",\n",
    "    f\"- Productos únicos: {n_products:,}\",\n",
    "    f\"- Países: {n_countries:,}\",\n",
    "    f\"- Revenue total (según UnitPrice): {fmt_money(total_revenue)}\",\n",
    "    f\"- Valor promedio por factura (AOV): {fmt_money(avg_order_value)} (mediana: {fmt_money(median_order_value)})\",\n",
    "    f\"- Ítems promedio por factura: {avg_items_per_inv:,.2f} (mediana: {median_items_per_inv:,.2f})\",\n",
    "    f\"- Filas duplicadas (exact match): {dupe_rows:,}\",\n",
    "]\n",
    "\n",
    "txt = []\n",
    "txt.append(\"=== EDA Summary – Online Retail ===\")\n",
    "txt.append(f\"Generated at: {datetime.now():%Y-%m-%d %H:%M:%S}\")\n",
    "txt.append(f\"Source table: transactions (SQLite @ ../db/online_retail_clean.db)\")\n",
    "txt.append(\"\")\n",
    "\n",
    "txt.append(\"1) What does the dataset contain?\")\n",
    "txt.append(\"   Transactional e-commerce records with invoice, product, quantity, pricing, timestamp, customer, and country information.\")\n",
    "txt.append(\"\")\n",
    "\n",
    "txt.append(\"2) Field descriptions:\")\n",
    "for c in df.columns:\n",
    "    desc = field_desc.get(c, \"(sin descripción)\")\n",
    "    dtype = str(df[c].dtype)\n",
    "    nulls = int(nulls_by_col.get(c, 0))\n",
    "    txt.append(f\"   - {c} [{dtype}] – {desc} | nulls: {nulls:,}\")\n",
    "\n",
    "txt.append(\"\")\n",
    "txt.append(\"3) High-level metadata:\")\n",
    "for line in metadata_list:\n",
    "    txt.append(f\"   {line}\")\n",
    "\n",
    "txt.append(\"\")\n",
    "txt.append(\"4) Top countries by revenue (Top 10):\")\n",
    "for k, v in top_countries.items():\n",
    "    txt.append(f\"   - {k}: {fmt_money(v)}\")\n",
    "\n",
    "txt.append(\"\")\n",
    "txt.append(\"5) Top products by quantity (Top 10):\")\n",
    "for k, v in top_products_by_qty.items():\n",
    "    txt.append(f\"   - {k}: {int(v):,}\")\n",
    "\n",
    "txt.append(\"\")\n",
    "txt.append(\"6) Suggested additional metadata:\")\n",
    "txt.append(\"   - Ventas mensuales por país y global.\")\n",
    "txt.append(\"   - Recencia (última compra por cliente), frecuencia (nº facturas) y valor monetario (RFM).\")\n",
    "txt.append(\"   - Distribución por día de la semana y hora del día.\")\n",
    "txt.append(\"   - Ticket promedio por país y dispersión de precios unitarios.\")\n",
    "txt.append(\"   - Porcentaje del revenue concentrado en Top-N productos/países (curva de Pareto).\")\n",
    "\n",
    "OUT_TXT.write_text(\"\\n\".join(txt), encoding=\"utf-8\")\n",
    "print(f\"✅ Resumen EDA guardado en: {OUT_TXT}\")\n",
    "print(\"\\n--- Vista previa ---\\n\")\n",
    "print(\"\\n\".join(txt[:40]), \"\\n...\\n\")\n"
   ]
  }
 ],
 "metadata": {
  "kernelspec": {
   "display_name": ".venv",
   "language": "python",
   "name": "python3"
  },
  "language_info": {
   "codemirror_mode": {
    "name": "ipython",
    "version": 3
   },
   "file_extension": ".py",
   "mimetype": "text/x-python",
   "name": "python",
   "nbconvert_exporter": "python",
   "pygments_lexer": "ipython3",
   "version": "3.13.3"
  }
 },
 "nbformat": 4,
 "nbformat_minor": 5
}
